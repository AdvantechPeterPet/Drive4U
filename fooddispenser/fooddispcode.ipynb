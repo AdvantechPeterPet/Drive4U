{
 "cells": [
  {
   "cell_type": "code",
   "execution_count": 2,
   "metadata": {},
   "outputs": [
    {
     "name": "stdout",
     "output_type": "stream",
     "text": [
      "Note: you may need to restart the kernel to use updated packages.Collecting git+https://github.com/rytilahti/python-miio.git\n",
      "  Cloning https://github.com/rytilahti/python-miio.git to c:\\users\\kwon\\appdata\\local\\temp\\pip-req-build-t5q4urqh\n",
      "  Resolved https://github.com/rytilahti/python-miio.git to commit 9b17d906d3829dd861d4cb73982dad7d9a5a8e95\n",
      "  Installing build dependencies: started\n",
      "  Installing build dependencies: finished with status 'done'\n",
      "  Getting requirements to build wheel: started\n",
      "  Getting requirements to build wheel: finished with status 'done'\n",
      "  Preparing metadata (pyproject.toml): started\n",
      "  Preparing metadata (pyproject.toml): finished with status 'done'\n",
      "Requirement already satisfied: PyYAML<7,>=5 in c:\\users\\kwon\\appdata\\local\\programs\\python\\python312\\lib\\site-packages (from python-miio==0.6.0.dev0) (6.0.1)\n",
      "Requirement already satisfied: appdirs<2,>=1 in c:\\users\\kwon\\appdata\\local\\programs\\python\\python312\\lib\\site-packages (from python-miio==0.6.0.dev0) (1.4.4)\n",
      "Requirement already satisfied: attrs in c:\\users\\kwon\\appdata\\local\\programs\\python\\python312\\lib\\site-packages (from python-miio==0.6.0.dev0) (23.1.0)\n",
      "Requirement already satisfied: click>=8 in c:\\users\\kwon\\appdata\\local\\programs\\python\\python312\\lib\\site-packages (from python-miio==0.6.0.dev0) (8.1.7)\n",
      "Requirement already satisfied: construct<3.0.0,>=2.10.56 in c:\\users\\kwon\\appdata\\local\\programs\\python\\python312\\lib\\site-packages (from python-miio==0.6.0.dev0) (2.10.69)\n",
      "Requirement already satisfied: croniter>=1 in c:\\users\\kwon\\appdata\\local\\programs\\python\\python312\\lib\\site-packages (from python-miio==0.6.0.dev0) (2.0.1)\n",
      "Requirement already satisfied: cryptography>=35 in c:\\users\\kwon\\appdata\\local\\programs\\python\\python312\\lib\\site-packages (from python-miio==0.6.0.dev0) (41.0.5)\n",
      "Requirement already satisfied: defusedxml<1,>=0 in c:\\users\\kwon\\appdata\\local\\programs\\python\\python312\\lib\\site-packages (from python-miio==0.6.0.dev0) (0.7.1)\n",
      "Requirement already satisfied: micloud>=0.6 in c:\\users\\kwon\\appdata\\local\\programs\\python\\python312\\lib\\site-packages (from python-miio==0.6.0.dev0) (0.6)\n",
      "Requirement already satisfied: pydantic<3,>=1 in c:\\users\\kwon\\appdata\\local\\programs\\python\\python312\\lib\\site-packages (from python-miio==0.6.0.dev0) (2.4.2)\n",
      "Requirement already satisfied: pytz in c:\\users\\kwon\\appdata\\local\\programs\\python\\python312\\lib\\site-packages (from python-miio==0.6.0.dev0) (2023.3.post1)\n",
      "Requirement already satisfied: tqdm<5,>=4 in c:\\users\\kwon\\appdata\\local\\programs\\python\\python312\\lib\\site-packages (from python-miio==0.6.0.dev0) (4.66.1)\n",
      "Requirement already satisfied: zeroconf<1,>=0 in c:\\users\\kwon\\appdata\\local\\programs\\python\\python312\\lib\\site-packages (from python-miio==0.6.0.dev0) (0.120.0)\n",
      "Requirement already satisfied: colorama in c:\\users\\kwon\\appdata\\roaming\\python\\python312\\site-packages (from click>=8->python-miio==0.6.0.dev0) (0.4.6)\n",
      "Requirement already satisfied: python-dateutil in c:\\users\\kwon\\appdata\\roaming\\python\\python312\\site-packages (from croniter>=1->python-miio==0.6.0.dev0) (2.8.2)\n",
      "Requirement already satisfied: cffi>=1.12 in c:\\users\\kwon\\appdata\\local\\programs\\python\\python312\\lib\\site-packages (from cryptography>=35->python-miio==0.6.0.dev0) (1.16.0)\n",
      "Requirement already satisfied: requests in c:\\users\\kwon\\appdata\\local\\programs\\python\\python312\\lib\\site-packages (from micloud>=0.6->python-miio==0.6.0.dev0) (2.31.0)\n",
      "Requirement already satisfied: tzlocal in c:\\users\\kwon\\appdata\\local\\programs\\python\\python312\\lib\\site-packages (from micloud>=0.6->python-miio==0.6.0.dev0) (5.2)\n",
      "Requirement already satisfied: pycryptodome in c:\\users\\kwon\\appdata\\local\\programs\\python\\python312\\lib\\site-packages (from micloud>=0.6->python-miio==0.6.0.dev0) (3.19.0)\n",
      "Requirement already satisfied: annotated-types>=0.4.0 in c:\\users\\kwon\\appdata\\local\\programs\\python\\python312\\lib\\site-packages (from pydantic<3,>=1->python-miio==0.6.0.dev0) (0.6.0)\n",
      "Requirement already satisfied: pydantic-core==2.10.1 in c:\\users\\kwon\\appdata\\local\\programs\\python\\python312\\lib\\site-packages (from pydantic<3,>=1->python-miio==0.6.0.dev0) (2.10.1)\n",
      "Requirement already satisfied: typing-extensions>=4.6.1 in c:\\users\\kwon\\appdata\\local\\programs\\python\\python312\\lib\\site-packages (from pydantic<3,>=1->python-miio==0.6.0.dev0) (4.8.0)\n",
      "Requirement already satisfied: ifaddr>=0.1.7 in c:\\users\\kwon\\appdata\\local\\programs\\python\\python312\\lib\\site-packages (from zeroconf<1,>=0->python-miio==0.6.0.dev0) (0.2.0)\n",
      "Requirement already satisfied: pycparser in c:\\users\\kwon\\appdata\\local\\programs\\python\\python312\\lib\\site-packages (from cffi>=1.12->cryptography>=35->python-miio==0.6.0.dev0) (2.21)\n",
      "Requirement already satisfied: six>=1.5 in c:\\users\\kwon\\appdata\\roaming\\python\\python312\\site-packages (from python-dateutil->croniter>=1->python-miio==0.6.0.dev0) (1.16.0)\n",
      "Requirement already satisfied: charset-normalizer<4,>=2 in c:\\users\\kwon\\appdata\\local\\programs\\python\\python312\\lib\\site-packages (from requests->micloud>=0.6->python-miio==0.6.0.dev0) (3.3.2)\n",
      "Requirement already satisfied: idna<4,>=2.5 in c:\\users\\kwon\\appdata\\local\\programs\\python\\python312\\lib\\site-packages (from requests->micloud>=0.6->python-miio==0.6.0.dev0) (3.4)\n",
      "Requirement already satisfied: urllib3<3,>=1.21.1 in c:\\users\\kwon\\appdata\\local\\programs\\python\\python312\\lib\\site-packages (from requests->micloud>=0.6->python-miio==0.6.0.dev0) (2.0.7)\n",
      "Requirement already satisfied: certifi>=2017.4.17 in c:\\users\\kwon\\appdata\\local\\programs\\python\\python312\\lib\\site-packages (from requests->micloud>=0.6->python-miio==0.6.0.dev0) (2023.7.22)\n",
      "Requirement already satisfied: tzdata in c:\\users\\kwon\\appdata\\local\\programs\\python\\python312\\lib\\site-packages (from tzlocal->micloud>=0.6->python-miio==0.6.0.dev0) (2023.3)\n",
      "\n"
     ]
    },
    {
     "name": "stderr",
     "output_type": "stream",
     "text": [
      "  Running command git clone --filter=blob:none --quiet https://github.com/rytilahti/python-miio.git 'C:\\Users\\kwon\\AppData\\Local\\Temp\\pip-req-build-t5q4urqh'\n",
      "\n",
      "[notice] A new release of pip is available: 23.2.1 -> 23.3.1\n",
      "[notice] To update, run: python.exe -m pip install --upgrade pip\n"
     ]
    }
   ],
   "source": [
    "pip install git+https://github.com/rytilahti/python-miio.git"
   ]
  },
  {
   "cell_type": "code",
   "execution_count": 3,
   "metadata": {},
   "outputs": [
    {
     "ename": "DeviceException",
     "evalue": "Unable to discover the device 192.168.111.36",
     "output_type": "error",
     "traceback": [
      "\u001b[1;31m---------------------------------------------------------------------------\u001b[0m",
      "\u001b[1;31mDeviceException\u001b[0m                           Traceback (most recent call last)",
      "\u001b[1;32mc:\\Users\\kwon\\Desktop\\fooddisp\\fooddispenser\\fooddispcode.ipynb Cell 2\u001b[0m line \u001b[0;36m1\n\u001b[0;32m      <a href='vscode-notebook-cell:/c%3A/Users/kwon/Desktop/fooddisp/fooddispenser/fooddispcode.ipynb#W1sZmlsZQ%3D%3D?line=7'>8</a>\u001b[0m device \u001b[39m=\u001b[39m Device(ip_address, token)\n\u001b[0;32m     <a href='vscode-notebook-cell:/c%3A/Users/kwon/Desktop/fooddisp/fooddispenser/fooddispcode.ipynb#W1sZmlsZQ%3D%3D?line=9'>10</a>\u001b[0m \u001b[39m# Device Fault 프로퍼티를 확인하는 명령을 전송\u001b[39;00m\n\u001b[1;32m---> <a href='vscode-notebook-cell:/c%3A/Users/kwon/Desktop/fooddisp/fooddispenser/fooddispcode.ipynb#W1sZmlsZQ%3D%3D?line=10'>11</a>\u001b[0m fault \u001b[39m=\u001b[39m device\u001b[39m.\u001b[39;49msend(\u001b[39m\"\u001b[39;49m\u001b[39mget_prop\u001b[39;49m\u001b[39m\"\u001b[39;49m, [\u001b[39m\"\u001b[39;49m\u001b[39mfault\u001b[39;49m\u001b[39m\"\u001b[39;49m])\n\u001b[0;32m     <a href='vscode-notebook-cell:/c%3A/Users/kwon/Desktop/fooddisp/fooddispenser/fooddispcode.ipynb#W1sZmlsZQ%3D%3D?line=11'>12</a>\u001b[0m \u001b[39mprint\u001b[39m(\u001b[39mf\u001b[39m\u001b[39m\"\u001b[39m\u001b[39mDevice Fault: \u001b[39m\u001b[39m{\u001b[39;00mfault\u001b[39m}\u001b[39;00m\u001b[39m\"\u001b[39m)\n",
      "File \u001b[1;32mc:\\Users\\kwon\\AppData\\Local\\Programs\\Python\\Python312\\Lib\\site-packages\\miio\\device.py:98\u001b[0m, in \u001b[0;36mDevice.send\u001b[1;34m(self, command, parameters, retry_count, extra_parameters)\u001b[0m\n\u001b[0;32m     82\u001b[0m \u001b[39m\u001b[39m\u001b[39m\"\"\"Send a command to the device.\u001b[39;00m\n\u001b[0;32m     83\u001b[0m \n\u001b[0;32m     84\u001b[0m \u001b[39mBasic format of the request:\u001b[39;00m\n\u001b[1;32m   (...)\u001b[0m\n\u001b[0;32m     95\u001b[0m \u001b[39m:param str model: Force model to avoid autodetection\u001b[39;00m\n\u001b[0;32m     96\u001b[0m \u001b[39m\"\"\"\u001b[39;00m\n\u001b[0;32m     97\u001b[0m retry_count \u001b[39m=\u001b[39m retry_count \u001b[39mif\u001b[39;00m retry_count \u001b[39mis\u001b[39;00m \u001b[39mnot\u001b[39;00m \u001b[39mNone\u001b[39;00m \u001b[39melse\u001b[39;00m \u001b[39mself\u001b[39m\u001b[39m.\u001b[39mretry_count\n\u001b[1;32m---> 98\u001b[0m \u001b[39mreturn\u001b[39;00m \u001b[39mself\u001b[39;49m\u001b[39m.\u001b[39;49m_protocol\u001b[39m.\u001b[39;49msend(\n\u001b[0;32m     99\u001b[0m     command, parameters, retry_count, extra_parameters\u001b[39m=\u001b[39;49mextra_parameters\n\u001b[0;32m    100\u001b[0m )\n",
      "File \u001b[1;32mc:\\Users\\kwon\\AppData\\Local\\Programs\\Python\\Python312\\Lib\\site-packages\\miio\\miioprotocol.py:162\u001b[0m, in \u001b[0;36mMiIOProtocol.send\u001b[1;34m(self, command, parameters, retry_count, extra_parameters)\u001b[0m\n\u001b[0;32m    150\u001b[0m \u001b[39m\u001b[39m\u001b[39m\"\"\"Build and send the given command. Note that this will implicitly call\u001b[39;00m\n\u001b[0;32m    151\u001b[0m \u001b[39m:func:`send_handshake` to do a handshake, and will re-try in case of errors\u001b[39;00m\n\u001b[0;32m    152\u001b[0m \u001b[39mwhile incrementing the `_id` by 100.\u001b[39;00m\n\u001b[1;32m   (...)\u001b[0m\n\u001b[0;32m    158\u001b[0m \u001b[39m:raises DeviceException: if an error has occurred during communication.\u001b[39;00m\n\u001b[0;32m    159\u001b[0m \u001b[39m\"\"\"\u001b[39;00m\n\u001b[0;32m    161\u001b[0m \u001b[39mif\u001b[39;00m \u001b[39mnot\u001b[39;00m \u001b[39mself\u001b[39m\u001b[39m.\u001b[39mlazy_discover \u001b[39mor\u001b[39;00m \u001b[39mnot\u001b[39;00m \u001b[39mself\u001b[39m\u001b[39m.\u001b[39m_discovered:\n\u001b[1;32m--> 162\u001b[0m     \u001b[39mself\u001b[39;49m\u001b[39m.\u001b[39;49msend_handshake()\n\u001b[0;32m    164\u001b[0m request \u001b[39m=\u001b[39m \u001b[39mself\u001b[39m\u001b[39m.\u001b[39m_create_request(command, parameters, extra_parameters)\n\u001b[0;32m    166\u001b[0m send_ts \u001b[39m=\u001b[39m \u001b[39mself\u001b[39m\u001b[39m.\u001b[39m_device_ts \u001b[39m+\u001b[39m timedelta(seconds\u001b[39m=\u001b[39m\u001b[39m1\u001b[39m)\n",
      "File \u001b[1;32mc:\\Users\\kwon\\AppData\\Local\\Programs\\Python\\Python312\\Lib\\site-packages\\miio\\miioprotocol.py:75\u001b[0m, in \u001b[0;36mMiIOProtocol.send_handshake\u001b[1;34m(self, retry_count)\u001b[0m\n\u001b[0;32m     73\u001b[0m \u001b[39mif\u001b[39;00m m \u001b[39mis\u001b[39;00m \u001b[39mNone\u001b[39;00m:\n\u001b[0;32m     74\u001b[0m     _LOGGER\u001b[39m.\u001b[39mdebug(\u001b[39m\"\u001b[39m\u001b[39mUnable to discover a device at address \u001b[39m\u001b[39m%s\u001b[39;00m\u001b[39m\"\u001b[39m, \u001b[39mself\u001b[39m\u001b[39m.\u001b[39mip)\n\u001b[1;32m---> 75\u001b[0m     \u001b[39mraise\u001b[39;00m DeviceException(\u001b[39m\"\u001b[39m\u001b[39mUnable to discover the device \u001b[39m\u001b[39m%s\u001b[39;00m\u001b[39m\"\u001b[39m \u001b[39m%\u001b[39m \u001b[39mself\u001b[39m\u001b[39m.\u001b[39mip)\n\u001b[0;32m     77\u001b[0m header \u001b[39m=\u001b[39m m\u001b[39m.\u001b[39mheader\u001b[39m.\u001b[39mvalue\n\u001b[0;32m     78\u001b[0m \u001b[39mself\u001b[39m\u001b[39m.\u001b[39m_device_id \u001b[39m=\u001b[39m header\u001b[39m.\u001b[39mdevice_id\n",
      "\u001b[1;31mDeviceException\u001b[0m: Unable to discover the device 192.168.111.36"
     ]
    }
   ],
   "source": [
    "from miio import Device\n",
    "\n",
    "# 기기의 IP 주소와 토큰을 설정\n",
    "ip_address = \"192.168.111.36\"\n",
    "token = \"fbeacba7c7ddde121f79ab56fb5be30c\"\n",
    "\n",
    "# Device 클래스를 사용하여 기기에 연결\n",
    "device = Device(ip_address, token)\n",
    "\n",
    "# Device Fault 프로퍼티를 확인하는 명령을 전송\n",
    "fault = device.send(\"get_prop\", [\"fault\"])\n",
    "print(f\"Device Fault: {fault}\")"
   ]
  },
  {
   "cell_type": "code",
   "execution_count": 3,
   "metadata": {},
   "outputs": [
    {
     "name": "stdout",
     "output_type": "stream",
     "text": [
      "Action result: {'did': 'action', 'siid': 2, 'aiid': 1, 'code': 0}\n"
     ]
    }
   ],
   "source": [
    "from miio import Device\n",
    "\n",
    "# 장치의 IP 주소와 토큰을 설정\n",
    "ip_address = \"192.168.111.36\"\n",
    "token = \"fbeacba7c7ddde121f79ab56fb5be30c\"\n",
    "\n",
    "# Device 클래스를 사용하여 장치에 연결\n",
    "device = Device(ip_address, token)\n",
    "\n",
    "# 사료를 배출하는 명령을 전송 (예: weightlevel을 6으로 설정)\n",
    "result = device.send(\"action\", {\n",
    "    \"did\": \"action\",\n",
    "    \"siid\": 2,  # feedserve 서비스의 SIID\n",
    "    \"aiid\": 1,  # outfood 액션의 AIID\n",
    "   #여긴 딱히 영향을 안주는디 \"in\": [{\"piid\": 6, \"value\": 6}]  # weightlevel을 6으로 설정\n",
    "})\n",
    "print(f\"Action result: {result}\")\n"
   ]
  },
  {
   "cell_type": "code",
   "execution_count": null,
   "metadata": {},
   "outputs": [],
   "source": [
    "from miio import Device\n",
    "import time  # time 모듈을 임포트\n",
    "\n",
    "def dispense(n):\n",
    "    # 장치의 IP 주소와 토큰을 설정\n",
    "    ip_address = \"192.168.111.36\"\n",
    "    token = \"fbeacba7c7ddde121f79ab56fb5be30c\"\n",
    "\n",
    "    # Device 클래스를 사용하여 장치에 연결\n",
    "    device = Device(ip_address, token)\n",
    "\n",
    "    for i in range(n):\n",
    "        time.sleep(10)\n",
    "\n",
    "        # 사료를 배출하는 명령을 전송\n",
    "        result = device.send(\"action\", {\n",
    "            \"did\": \"action\",\n",
    "            \"siid\": 2,  # pet-feeder 서비스의 SIID\n",
    "            \"aiid\": 1,  # pet-food-out 액션의 AIID\n",
    "        })\n",
    "        print(f\"Action result: {result}\")\n",
    "\n",
    "\n",
    "dispense(2)"
   ]
  }
 ],
 "metadata": {
  "kernelspec": {
   "display_name": "Python 3",
   "language": "python",
   "name": "python3"
  },
  "language_info": {
   "codemirror_mode": {
    "name": "ipython",
    "version": 3
   },
   "file_extension": ".py",
   "mimetype": "text/x-python",
   "name": "python",
   "nbconvert_exporter": "python",
   "pygments_lexer": "ipython3",
   "version": "3.12.0"
  }
 },
 "nbformat": 4,
 "nbformat_minor": 2
}
